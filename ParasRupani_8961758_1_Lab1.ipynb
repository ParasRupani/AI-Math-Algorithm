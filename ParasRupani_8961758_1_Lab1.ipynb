{
 "cells": [
  {
   "cell_type": "code",
   "execution_count": 41,
   "metadata": {},
   "outputs": [],
   "source": [
    "import numpy as np"
   ]
  },
  {
   "cell_type": "markdown",
   "metadata": {},
   "source": [
    "1. Create an array that starts from the integer 1, ends at 20, incremented by 3"
   ]
  },
  {
   "cell_type": "code",
   "execution_count": 42,
   "metadata": {},
   "outputs": [
    {
     "name": "stdout",
     "output_type": "stream",
     "text": [
      "[ 1  4  7 10 13 16 19]\n"
     ]
    }
   ],
   "source": [
    "#1\n",
    "# array from 1 to 20, incremented by 3.\n",
    "\n",
    "print(np.arange(1, 20, 3))"
   ]
  },
  {
   "cell_type": "markdown",
   "metadata": {},
   "source": [
    "<hr style=\"height: 3px; background-color: black;\">\n",
    "\n",
    "2. Create a new array of shape 3 with random numbers between 0 and 1."
   ]
  },
  {
   "cell_type": "code",
   "execution_count": 43,
   "metadata": {},
   "outputs": [
    {
     "name": "stdout",
     "output_type": "stream",
     "text": [
      "[0.96085476 0.74660245 0.53935843]\n"
     ]
    }
   ],
   "source": [
    "#2\n",
    "# array of shape 3 with random numbers between 0 and 1\n",
    "\n",
    "print(np.random.rand(3))"
   ]
  },
  {
   "cell_type": "markdown",
   "metadata": {},
   "source": [
    "<hr style=\"height: 3px; background-color: black;\">\n",
    "\n",
    "3. Create a 2 D array [[10,20,45],[30,12,16],[42,17,56]] and perform the following operations:<br>\n",
    "    o Slice the 2D array to get the first two rows, slice the 2D array to get the last two rows."
   ]
  },
  {
   "cell_type": "code",
   "execution_count": 44,
   "metadata": {},
   "outputs": [
    {
     "name": "stdout",
     "output_type": "stream",
     "text": [
      "The first two rows are: [[10 20 45]\n",
      " [30 12 16]]\n",
      "\n",
      "The last two rows are: [[30 12 16]\n",
      " [42 17 56]]\n"
     ]
    }
   ],
   "source": [
    "#3\n",
    "arr = np.array(\n",
    "    [[10,20,45],\n",
    "    [30,12,16],\n",
    "    [42,17,56]]\n",
    ")\n",
    "\n",
    "rows = arr.shape[0]\n",
    "\n",
    "# get first two rows\n",
    "initial = arr[:2]\n",
    "\n",
    "# get last two rows\n",
    "last = arr[rows-2:]\n",
    "\n",
    "print(f\"The first two rows are: {initial}\\n\")\n",
    "print(f\"The last two rows are: {last}\")\n"
   ]
  },
  {
   "cell_type": "markdown",
   "metadata": {},
   "source": [
    "<hr style=\"height: 3px; background-color: black;\">\n",
    "\n",
    "4. Create two 2x2 arrays and demonstrate how you can stack the elements vertically, horizontally, \n",
    "and split the arrays into smaller arrays."
   ]
  },
  {
   "cell_type": "code",
   "execution_count": 45,
   "metadata": {},
   "outputs": [
    {
     "name": "stdout",
     "output_type": "stream",
     "text": [
      "arr1: \n",
      "[[2 3]\n",
      " [5 3]]\n",
      "\n",
      "arr2: \n",
      "[[3 3]\n",
      " [8 5]]\n",
      "\n",
      "Vertical Stack is \n",
      "[[2 3]\n",
      " [5 3]\n",
      " [3 3]\n",
      " [8 5]]\n",
      "\n",
      "Horizontal Stack is \n",
      "[[2 3 3 3]\n",
      " [5 3 8 5]]\n",
      "\n",
      "[array([[2, 3],\n",
      "       [5, 3]]), array([[3, 3],\n",
      "       [8, 5]])]\n",
      "\n",
      "[array([[2, 3],\n",
      "       [5, 3]]), array([[3, 3],\n",
      "       [8, 5]])]\n"
     ]
    }
   ],
   "source": [
    "#4\n",
    "arr1 = np.random.randint(0, 10, size=(2,2))\n",
    "arr2 = np.random.randint(0, 10, size=(2,2))\n",
    "\n",
    "print(f\"arr1: \\n{arr1}\\n\\narr2: \\n{arr2}\\n\")\n",
    "\n",
    "ver_stack = np.vstack((arr1, arr2))\n",
    "hor_stack = np.hstack((arr1, arr2))\n",
    "\n",
    "print(f\"Vertical Stack is \\n{ver_stack}\\n\")\n",
    "print(f\"Horizontal Stack is \\n{hor_stack}\\n\")\n",
    "\n",
    "ver_split = np.vsplit(ver_stack, 2)\n",
    "hor_split = np.hsplit(hor_stack, 2)\n",
    "\n",
    "print(ver_split)\n",
    "print()\n",
    "print(hor_split)"
   ]
  },
  {
   "cell_type": "markdown",
   "metadata": {},
   "source": [
    "<hr style=\"height: 3px; background-color: black;\">\n",
    "\n",
    "5. Create two matrices 𝑋 = ([[5, 7, 2],[4, 5, 6],[7, 4 ,2]]), 𝑌 = ([[4, 2],[6, 2],[4, 2]])<br>\n",
    "    o Is it possible to multiply these matrices?<br>\n",
    "    o Demonstrate the case when it is not possible to."
   ]
  },
  {
   "cell_type": "code",
   "execution_count": 46,
   "metadata": {},
   "outputs": [
    {
     "name": "stdout",
     "output_type": "stream",
     "text": [
      "Multiplication possible\n",
      "[[70 28]\n",
      " [70 30]\n",
      " [60 26]]\n",
      "\n",
      "Failed\n"
     ]
    }
   ],
   "source": [
    "#5\n",
    "\n",
    "#a\n",
    "def dot_prod(a, b):\n",
    "    m1, n1 = a.shape\n",
    "    m2, n2 = b.shape\n",
    "\n",
    "    if n1==m2:\n",
    "        print(\"Multiplication possible\")\n",
    "        return np.dot(x,y)\n",
    "    else:\n",
    "        return \"Failed\"\n",
    "\n",
    "x =  np.array([[5, 7, 2],[4, 5, 6],[7, 4 ,2]])\n",
    "y =  np.array([[4, 2],[6, 2],[4, 2]])\n",
    "\n",
    "print(dot_prod(x, y))\n",
    "\n",
    "#b\n",
    "print()\n",
    "a = np.array([[5, 7, 2],[4, 5, 6],[7, 4 ,2]])\n",
    "b = np.array([[4, 2]])\n",
    "\n",
    "print(dot_prod(a, b))"
   ]
  },
  {
   "cell_type": "markdown",
   "metadata": {},
   "source": [
    "<hr style=\"height: 3px; background-color: black;\">\n",
    "6. Create two arrays, 𝑥 = ([2, −1, −8]), 𝑦 = ([3, 1, −2])<br>\n",
    "o Find the Shape, Number of dimensions of vector x.<br>\n",
    "o Reshape the vector x to a matrix of size (3,1) and determine the number of dimensions \n",
    "after reshaping y to a matrix of (3,1)."
   ]
  },
  {
   "cell_type": "code",
   "execution_count": 47,
   "metadata": {},
   "outputs": [
    {
     "name": "stdout",
     "output_type": "stream",
     "text": [
      "Shape of x is: (3,)\n",
      "\n",
      "Dimensions of x is: 1\n",
      "\n",
      "x after reshape is: \n",
      "[[ 2]\n",
      " [-1]\n",
      " [-8]]\n",
      "\n",
      "Matrix y: \n",
      "[[ 3]\n",
      " [ 1]\n",
      " [-2]]\n",
      "Dimensions of y after reshape: 2\n"
     ]
    }
   ],
   "source": [
    "#6\n",
    "#a\n",
    "x = np.array([2, -1, -8])\n",
    "y = np.array([3, 1, -2]) \n",
    "\n",
    "print(f\"Shape of x is: {x.shape}\\n\")\n",
    "print(f\"Dimensions of x is: {x.ndim}\\n\")\n",
    "print(f\"x after reshape is: \\n{x.reshape(3,1)}\\n\")\n",
    "\n",
    "#b\n",
    "y = y.reshape(3,1)\n",
    "print(f\"Matrix y: \\n{y}\")\n",
    "print(f\"Dimensions of y after reshape: {y.ndim}\")"
   ]
  },
  {
   "cell_type": "markdown",
   "metadata": {},
   "source": [
    "<hr style=\"height: 3px; background-color: black;\">\n",
    "7. How does broadcasting work? Demonstrate the subtraction, multiplication by considering a 3 x 3 \n",
    "matrix."
   ]
  },
  {
   "cell_type": "markdown",
   "metadata": {},
   "source": [
    "Broadcasting is the concept in which when we have 2 matrices of different shapes, we pretend that the smaller size matrix is the same as teh bigger one by repeating its values. It's similar to copying the smaller matrix to fit the size of the bigger one. It allows us to do the mathematical operation even when the matrices are of different sizes."
   ]
  },
  {
   "cell_type": "code",
   "execution_count": 48,
   "metadata": {},
   "outputs": [
    {
     "name": "stdout",
     "output_type": "stream",
     "text": [
      "Subtraction: \n",
      "[[-1  0  1]\n",
      " [ 2  3  4]\n",
      " [ 5  6  7]]\n",
      "\n",
      "Multiplication: \n",
      "[[ 2  4  6]\n",
      " [ 8 10 12]\n",
      " [14 16 18]]\n"
     ]
    }
   ],
   "source": [
    "# Shape (3, 3)\n",
    "A = np.array([[1, 2, 3],\n",
    "              [4, 5, 6],\n",
    "              [7, 8, 9]])\n",
    "\n",
    "# Shape (3, 1)\n",
    "B = np.array([[2],\n",
    "              [2],\n",
    "              [2]])\n",
    "\n",
    "# Subtraction\n",
    "sub_result = A - B\n",
    "print(f\"Subtraction: \\n{sub_result}\\n\")\n",
    "\n",
    "# Multiplication\n",
    "mutliply_result = A * B\n",
    "print(f\"Multiplication: \\n{mutliply_result}\")\n"
   ]
  },
  {
   "cell_type": "markdown",
   "metadata": {},
   "source": [
    "In the above examples, 'A' matrix is of size 3x3, 'B' matrix is of size 3x1. Mathematically subtraction is only possible when the shape of the matrices is same, but with the help of numpy, we can perform subtraction as well as multiplication for the above."
   ]
  },
  {
   "cell_type": "markdown",
   "metadata": {},
   "source": [
    "<hr style=\"height: 3px; background-color: black;\">\n",
    "\n",
    "## Part B- Linear Equations"
   ]
  },
  {
   "cell_type": "code",
   "execution_count": 49,
   "metadata": {},
   "outputs": [],
   "source": [
    "def check_singular(eqn):\n",
    "    # Calculating Determinant\n",
    "    det_eqn = np.linalg.det(eqn)\n",
    "    \n",
    "    print(f\"{eqn}\\n\")\n",
    "\n",
    "    # Checking for singularity\n",
    "    if det_eqn == 0:\n",
    "        print(f\"Determinant is {det_eqn}, System is singular.\")\n",
    "    else:\n",
    "        print(f\"Determinant is {det_eqn}, System is non-singular.\")"
   ]
  },
  {
   "cell_type": "markdown",
   "metadata": {},
   "source": [
    "### B.1"
   ]
  },
  {
   "cell_type": "markdown",
   "metadata": {},
   "source": [
    "1. 4x + y - 2z = 10\n",
    "2. 2x - 3y + 2z = -4\n",
    "3. x + 2y + 3z = 6"
   ]
  },
  {
   "cell_type": "code",
   "execution_count": 50,
   "metadata": {},
   "outputs": [
    {
     "name": "stdout",
     "output_type": "stream",
     "text": [
      "[[ 4  1 -2]\n",
      " [ 2 -3  2]\n",
      " [ 1  2  3]]\n",
      "\n",
      "Determinant is -70.00000000000003, System is non-singular.\n"
     ]
    }
   ],
   "source": [
    "eqn_1 = np.array([[4, 1, -2],\n",
    "                  [2, -3, 2],\n",
    "                  [1, 2, 3]])\n",
    "\n",
    "check_singular(eqn_1)"
   ]
  },
  {
   "cell_type": "markdown",
   "metadata": {},
   "source": [
    "<hr style=\"height: 3px; background-color: black;\">\n",
    "\n",
    "### B.2\n",
    "1. 2x - y + 3z + 4w = 10\n",
    "2. 4x - 2y + 6z + 8w = 20\n",
    "3. 3x + y - 2z + 2w = 3\n",
    "4. x + 3y - 4z + w = -1\n"
   ]
  },
  {
   "cell_type": "code",
   "execution_count": 51,
   "metadata": {},
   "outputs": [
    {
     "name": "stdout",
     "output_type": "stream",
     "text": [
      "[[ 2 -1  3  4]\n",
      " [ 4 -2  6  8]\n",
      " [ 3  1 -2  2]\n",
      " [ 1  3 -4  1]]\n",
      "\n",
      "Determinant is 0.0, System is singular.\n"
     ]
    }
   ],
   "source": [
    "eqn_2 = np.array([[2, -1, 3, 4],\n",
    "                  [4, -2, 6, 8],\n",
    "                  [3, 1, -2, 2],\n",
    "                  [1, 3, -4, 1]])\n",
    "\n",
    "check_singular(eqn_2)"
   ]
  },
  {
   "cell_type": "markdown",
   "metadata": {},
   "source": [
    "<hr style=\"height: 3px; background-color: black;\">"
   ]
  }
 ],
 "metadata": {
  "kernelspec": {
   "display_name": "CSCN8010_classic_ml",
   "language": "python",
   "name": "python3"
  },
  "language_info": {
   "codemirror_mode": {
    "name": "ipython",
    "version": 3
   },
   "file_extension": ".py",
   "mimetype": "text/x-python",
   "name": "python",
   "nbconvert_exporter": "python",
   "pygments_lexer": "ipython3",
   "version": "3.11.4"
  }
 },
 "nbformat": 4,
 "nbformat_minor": 2
}
